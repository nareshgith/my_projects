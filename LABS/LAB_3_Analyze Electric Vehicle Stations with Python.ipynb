{
 "cells": [
  {
   "cell_type": "markdown",
   "id": "d3b3c7cb",
   "metadata": {},
   "source": [
    "# Analyze Electric Vehicle Stations in Python\n",
    "\n",
    "- [View Solution Notebook](./solution.html)\n",
    "- [View Project Page](https://www.codecademy.com/projects/practice/analyze-electric-vehicle-stations-with-python)"
   ]
  },
  {
   "cell_type": "markdown",
   "id": "5b8aa8c8",
   "metadata": {},
   "source": [
    "## Task Group 1 - Import and Explore"
   ]
  },
  {
   "cell_type": "markdown",
   "id": "9110be58",
   "metadata": {},
   "source": [
    "### Task 1\n",
    "\n",
    "Import the CSV file `stations.csv` and assign it to the variable `stations`."
   ]
  },
  {
   "cell_type": "code",
   "execution_count": 1,
   "id": "f64d0f03",
   "metadata": {},
   "outputs": [
    {
     "data": {
      "text/html": [
       "<div>\n",
       "<style scoped>\n",
       "    .dataframe tbody tr th:only-of-type {\n",
       "        vertical-align: middle;\n",
       "    }\n",
       "\n",
       "    .dataframe tbody tr th {\n",
       "        vertical-align: top;\n",
       "    }\n",
       "\n",
       "    .dataframe thead th {\n",
       "        text-align: right;\n",
       "    }\n",
       "</style>\n",
       "<table border=\"1\" class=\"dataframe\">\n",
       "  <thead>\n",
       "    <tr style=\"text-align: right;\">\n",
       "      <th></th>\n",
       "      <th>fuel</th>\n",
       "      <th>state</th>\n",
       "      <th>owner</th>\n",
       "      <th>access</th>\n",
       "      <th>number_of_stations</th>\n",
       "    </tr>\n",
       "  </thead>\n",
       "  <tbody>\n",
       "    <tr>\n",
       "      <th>0</th>\n",
       "      <td>biodiesel</td>\n",
       "      <td>AL</td>\n",
       "      <td>government</td>\n",
       "      <td>private</td>\n",
       "      <td>8</td>\n",
       "    </tr>\n",
       "    <tr>\n",
       "      <th>1</th>\n",
       "      <td>biodiesel</td>\n",
       "      <td>AL</td>\n",
       "      <td>private</td>\n",
       "      <td>public</td>\n",
       "      <td>2</td>\n",
       "    </tr>\n",
       "    <tr>\n",
       "      <th>2</th>\n",
       "      <td>biodiesel</td>\n",
       "      <td>AR</td>\n",
       "      <td>government</td>\n",
       "      <td>private</td>\n",
       "      <td>1</td>\n",
       "    </tr>\n",
       "    <tr>\n",
       "      <th>3</th>\n",
       "      <td>biodiesel</td>\n",
       "      <td>AR</td>\n",
       "      <td>private</td>\n",
       "      <td>public</td>\n",
       "      <td>16</td>\n",
       "    </tr>\n",
       "    <tr>\n",
       "      <th>4</th>\n",
       "      <td>biodiesel</td>\n",
       "      <td>AZ</td>\n",
       "      <td>government</td>\n",
       "      <td>private</td>\n",
       "      <td>74</td>\n",
       "    </tr>\n",
       "  </tbody>\n",
       "</table>\n",
       "</div>"
      ],
      "text/plain": [
       "        fuel state       owner   access  number_of_stations\n",
       "0  biodiesel    AL  government  private                   8\n",
       "1  biodiesel    AL     private   public                   2\n",
       "2  biodiesel    AR  government  private                   1\n",
       "3  biodiesel    AR     private   public                  16\n",
       "4  biodiesel    AZ  government  private                  74"
      ]
     },
     "execution_count": 1,
     "metadata": {},
     "output_type": "execute_result"
    }
   ],
   "source": [
    "import pandas as pd\n",
    "stations = pd.read_csv('stations.csv')\n",
    "\n",
    "# show output\n",
    "stations.head()"
   ]
  },
  {
   "cell_type": "markdown",
   "id": "cb16dbf0",
   "metadata": {},
   "source": [
    "<details>\n",
    "    <summary style=\"display:list-item; font-size:16px; color:blue;\"><i>What is the structure of this dataset? Toggle to check!</i></summary>\n",
    "\n",
    "Each row of the dataset counts the number of stations corresponding to certain categories of fuel, ownership, location, and access.\n",
    "    \n",
    "For example, let's look at the first row. The first row counts the number of\n",
    "    \n",
    "    - biodiesel stations\n",
    "    - in Alabama\n",
    "    - owned by the government\n",
    "    - with restricted/private access\n",
    "\n",
    "The number in the last column tells us there are 8 stations matching these properties!\n",
    "\n",
    "</details>"
   ]
  },
  {
   "cell_type": "markdown",
   "id": "ff1b1167",
   "metadata": {},
   "source": [
    "### Task 2\n",
    "\n",
    "When we start working with a new dataset, it's a good idea to get some summaries of the different columns, so that we know what kinds of values they contain.\n",
    "\n",
    "Call `.value_counts()` on `fuel` to see the different kinds of fuel included in the dataset."
   ]
  },
  {
   "cell_type": "code",
   "execution_count": 3,
   "id": "54123073",
   "metadata": {},
   "outputs": [
    {
     "name": "stdout",
     "output_type": "stream",
     "text": [
      "electric                  260\n",
      "compressed natural gas    210\n",
      "propane                   105\n",
      "ethanol                    97\n",
      "biodiesel                  70\n",
      "liquefied natural gas      50\n",
      "hydrogen                   27\n",
      "Name: fuel, dtype: int64\n"
     ]
    }
   ],
   "source": [
    "# Display the value counts for the 'fuel' column\n",
    "fuel_counts = stations['fuel'].value_counts()\n",
    "\n",
    "# Show output\n",
    "print(fuel_counts)\n"
   ]
  },
  {
   "cell_type": "markdown",
   "id": "46770772",
   "metadata": {},
   "source": [
    "### Task 3\n",
    "\n",
    "Call `.value_counts()` on `owner` to see the different kinds of owners included in the dataset."
   ]
  },
  {
   "cell_type": "code",
   "execution_count": 4,
   "id": "cd01dcac",
   "metadata": {},
   "outputs": [
    {
     "name": "stdout",
     "output_type": "stream",
     "text": [
      "private            413\n",
      "government         288\n",
      "utility company    108\n",
      "joint               10\n",
      "Name: owner, dtype: int64\n"
     ]
    }
   ],
   "source": [
    "# Display the value counts for the 'owner' column\n",
    "owner_counts = stations['owner'].value_counts()\n",
    "\n",
    "# Show output\n",
    "print(owner_counts)"
   ]
  },
  {
   "cell_type": "markdown",
   "id": "31f1c8ec",
   "metadata": {},
   "source": [
    "### Task 4\n",
    "\n",
    "Call `.value_counts()` on `access` to see the different kinds of access included in the dataset."
   ]
  },
  {
   "cell_type": "code",
   "execution_count": 5,
   "id": "0e8c0f73",
   "metadata": {},
   "outputs": [
    {
     "name": "stdout",
     "output_type": "stream",
     "text": [
      "public     415\n",
      "private    404\n",
      "Name: access, dtype: int64\n"
     ]
    }
   ],
   "source": [
    "# Display the value counts for the 'access' column\n",
    "access_counts = stations['access'].value_counts()\n",
    "\n",
    "# Show output\n",
    "print(access_counts)"
   ]
  },
  {
   "cell_type": "markdown",
   "id": "5d7d74a9",
   "metadata": {},
   "source": [
    "<details>\n",
    "    <summary style=\"display:list-item; font-size:16px; color:blue;\"><i>What did we discover using value counts? Toggle to check!</i></summary>\n",
    "\n",
    "Using `.value_counts()` tells us the different types of stations in the dataset. For example, we now know that there are both public-access and private-access stations in the dataset.\n",
    "    \n",
    "It is important to remember that `.value_counts()` only tells us how many *rows* in the dataset contain a certain value. For example, from Task 4 we know that there are 415 rows in the dataset that contain `public` in the `access` column. This does *not* correspond to 415 stations, since each row can have a large `number_of_stations`.\n",
    "\n",
    "</details>"
   ]
  },
  {
   "cell_type": "markdown",
   "id": "655d3edc",
   "metadata": {},
   "source": [
    "### Task 5\n",
    "\n",
    "Call `.describe()` on `number_of_stations`."
   ]
  },
  {
   "cell_type": "code",
   "execution_count": 6,
   "id": "c392c383",
   "metadata": {},
   "outputs": [
    {
     "name": "stdout",
     "output_type": "stream",
     "text": [
      "count     819.000000\n",
      "mean       34.741148\n",
      "std       118.665095\n",
      "min         1.000000\n",
      "25%         2.000000\n",
      "50%         5.000000\n",
      "75%        20.500000\n",
      "max      2423.000000\n",
      "Name: number_of_stations, dtype: float64\n"
     ]
    }
   ],
   "source": [
    "# Call describe on the 'number_of_stations' column\n",
    "number_of_stations_description = stations['number_of_stations'].describe()\n",
    "\n",
    "# Show output\n",
    "print(number_of_stations_description)"
   ]
  },
  {
   "cell_type": "markdown",
   "id": "501000ed",
   "metadata": {},
   "source": [
    "### Task 6\n",
    "\n",
    "There's a pretty large maximum in the output to Task 5. Sort `stations` by `number_of_stations` from largest to smallest. What do the top 5 rows have in common?"
   ]
  },
  {
   "cell_type": "code",
   "execution_count": 7,
   "id": "fe8b0dff",
   "metadata": {},
   "outputs": [
    {
     "name": "stdout",
     "output_type": "stream",
     "text": [
      "         fuel state    owner  access  number_of_stations\n",
      "301  electric    CA  private  public                2423\n",
      "456  electric    NY  private  public                1173\n",
      "500  electric    TX  private  public                 778\n",
      "329  electric    FL  private  public                 659\n",
      "510  electric    VA  private  public                 497\n"
     ]
    }
   ],
   "source": [
    "# Sort the stations by 'number_of_stations' from largest to smallest\n",
    "sorted_stations = stations.sort_values(by='number_of_stations', ascending=False)\n",
    "\n",
    "# Show the top 5 rows\n",
    "top_5_stations = sorted_stations.head()\n",
    "\n",
    "# Display the output\n",
    "print(top_5_stations)"
   ]
  },
  {
   "cell_type": "markdown",
   "id": "2ac88d89",
   "metadata": {},
   "source": [
    "### Task 7\n",
    "\n",
    "Sort `stations` by `number_of_stations` from smallest to largest. What do the top 5 rows of the new sorted DataFrame have in common?"
   ]
  },
  {
   "cell_type": "code",
   "execution_count": 8,
   "id": "fd93a428",
   "metadata": {},
   "outputs": [
    {
     "name": "stdout",
     "output_type": "stream",
     "text": [
      "                       fuel state       owner   access  number_of_stations\n",
      "194  compressed natural gas    NJ       joint   public                   1\n",
      "203  compressed natural gas    NV  government  private                   1\n",
      "432                electric    NH  government  private                   1\n",
      "208  compressed natural gas    NY       joint   public                   1\n",
      "730                 propane    CT     private  private                   1\n"
     ]
    }
   ],
   "source": [
    "# Sort the stations by 'number_of_stations' from smallest to largest\n",
    "sorted_stations_ascending = stations.sort_values(by='number_of_stations', ascending=True)\n",
    "\n",
    "# Show the top 5 rows\n",
    "top_5_stations_ascending = sorted_stations_ascending.head()\n",
    "\n",
    "# Display the output\n",
    "print(top_5_stations_ascending)"
   ]
  },
  {
   "cell_type": "markdown",
   "id": "ad058e76",
   "metadata": {},
   "source": [
    "<details>\n",
    "    <summary style=\"display:list-item; font-size:16px; color:blue;\"><i>What did we discover using sorting? Toggle to check!</i></summary>\n",
    "\n",
    "The five largest rows are all public-access, privately-owned, and electric. \n",
    "\n",
    "We can't draw too many conclusions from the five smallest rows, because there may be more than just these five rows with 1 station.\n",
    "\n",
    "</details>"
   ]
  },
  {
   "cell_type": "markdown",
   "id": "915a3e7d",
   "metadata": {},
   "source": [
    "## Task Group 2 - Public Access Electric Charging"
   ]
  },
  {
   "cell_type": "markdown",
   "id": "c9363658",
   "metadata": {},
   "source": [
    "## Task 8\n",
    "\n",
    "Electric vehicles have become more and more crucial to plans around climate change. Let's take a closer look at stations that anyone can access.\n",
    "\n",
    "Create a Boolean mask that is `True` for any row of `stations` where `access` is public."
   ]
  },
  {
   "cell_type": "code",
   "execution_count": 9,
   "id": "580615a9",
   "metadata": {},
   "outputs": [
    {
     "name": "stdout",
     "output_type": "stream",
     "text": [
      "0    False\n",
      "1     True\n",
      "2    False\n",
      "3     True\n",
      "4    False\n",
      "Name: access, dtype: bool\n"
     ]
    }
   ],
   "source": [
    "import pandas as pd\n",
    "stations = pd.read_csv('stations.csv')\n",
    "\n",
    "# Create a Boolean mask for stations with 'public' access\n",
    "public_access_mask = stations['access'] == 'public'\n",
    "\n",
    "# Show the mask output\n",
    "print(public_access_mask.head())"
   ]
  },
  {
   "cell_type": "markdown",
   "id": "a1bcdaa7",
   "metadata": {},
   "source": [
    "### Task 9\n",
    "\n",
    "Create a Boolean mask that is `True` for any row of `stations` where `fuel` is electric."
   ]
  },
  {
   "cell_type": "code",
   "execution_count": 10,
   "id": "b92be568",
   "metadata": {},
   "outputs": [
    {
     "name": "stdout",
     "output_type": "stream",
     "text": [
      "0    False\n",
      "1    False\n",
      "2    False\n",
      "3    False\n",
      "4    False\n",
      "Name: fuel, dtype: bool\n"
     ]
    }
   ],
   "source": [
    "# Create a Boolean mask for stations with 'electric' fuel\n",
    "electric_fuel_mask = stations['fuel'] == 'electric'\n",
    "\n",
    "# Show the mask output\n",
    "print(electric_fuel_mask.head())"
   ]
  },
  {
   "cell_type": "markdown",
   "id": "8eba9134",
   "metadata": {},
   "source": [
    "### Task 10\n",
    "\n",
    "Use the Boolean masks from Tasks 8 and 9 to filter `stations` down to only rows that are both public-access and electric-fuel. Assign the result to the variable `public_electric`."
   ]
  },
  {
   "cell_type": "code",
   "execution_count": 11,
   "id": "a33012da",
   "metadata": {},
   "outputs": [
    {
     "name": "stdout",
     "output_type": "stream",
     "text": [
      "         fuel state            owner  access  number_of_stations\n",
      "281  electric    AK       government  public                   6\n",
      "282  electric    AK          private  public                  37\n",
      "283  electric    AK  utility company  public                   3\n",
      "285  electric    AL       government  public                   1\n",
      "287  electric    AL          private  public                 102\n"
     ]
    }
   ],
   "source": [
    "# Create Boolean masks\n",
    "public_access_mask = stations['access'] == 'public'\n",
    "electric_fuel_mask = stations['fuel'] == 'electric'\n",
    "\n",
    "# Combine the two masks using the & operator\n",
    "public_electric = stations[public_access_mask & electric_fuel_mask]\n",
    "\n",
    "# Show the result\n",
    "print(public_electric.head())"
   ]
  },
  {
   "cell_type": "markdown",
   "id": "3dfd1fb6",
   "metadata": {},
   "source": [
    "### Task 11\n",
    "\n",
    "Sort `public_electric` by `number_of_stations` from smallest to largest. Display the top 5 rows (corresponding to the smallest numbers of stations.)"
   ]
  },
  {
   "cell_type": "code",
   "execution_count": 12,
   "id": "81a4c07c",
   "metadata": {},
   "outputs": [
    {
     "name": "stdout",
     "output_type": "stream",
     "text": [
      "         fuel state            owner  access  number_of_stations\n",
      "454  electric    NY            joint  public                   1\n",
      "473  electric    OR  utility company  public                   1\n",
      "317  electric    DC       government  public                   1\n",
      "458  electric    NY  utility company  public                   1\n",
      "479  electric    RI       government  public                   1\n"
     ]
    }
   ],
   "source": [
    "# Sort public_electric by 'number_of_stations' from smallest to largest\n",
    "public_electric_sorted = public_electric.sort_values(by='number_of_stations', ascending=True)\n",
    "\n",
    "# Display the top 5 rows\n",
    "print(public_electric_sorted.head())\n"
   ]
  },
  {
   "cell_type": "markdown",
   "id": "2fa14ff8",
   "metadata": {},
   "source": [
    "### Task 12\n",
    "\n",
    "While we can't be sure that this trend continues, it certainly looks as if publicly-owned (government/utility) stations are less common than privately owned (which we saw in Task 6).\n",
    "\n",
    "Let's compare privately- and publicly-owned stations. Create a Boolean mask that is `True` for each row of `public_electric` where `owner` is private."
   ]
  },
  {
   "cell_type": "code",
   "execution_count": 13,
   "id": "ba369890",
   "metadata": {},
   "outputs": [
    {
     "name": "stdout",
     "output_type": "stream",
     "text": [
      "281    False\n",
      "282     True\n",
      "283    False\n",
      "285    False\n",
      "287     True\n",
      "Name: owner, dtype: bool\n"
     ]
    }
   ],
   "source": [
    "# Create a Boolean mask for rows where owner is private\n",
    "private_owner_mask = public_electric['owner'] == 'private'\n",
    "\n",
    "# Show the result (just as an example, you can check the first few rows)\n",
    "print(private_owner_mask.head())"
   ]
  },
  {
   "cell_type": "markdown",
   "id": "243d36b8",
   "metadata": {},
   "source": [
    "### Task 13\n",
    "\n",
    "Use the Boolean mask from Task 12 to filter `public_electric` down to only privately-owned rows. Assign the result to the variable `privately_owned`."
   ]
  },
  {
   "cell_type": "code",
   "execution_count": 14,
   "id": "019be205",
   "metadata": {},
   "outputs": [
    {
     "name": "stdout",
     "output_type": "stream",
     "text": [
      "         fuel state    owner  access  number_of_stations\n",
      "282  electric    AK  private  public                  37\n",
      "287  electric    AL  private  public                 102\n",
      "292  electric    AR  private  public                  70\n",
      "297  electric    AZ  private  public                 294\n",
      "301  electric    CA  private  public                2423\n"
     ]
    }
   ],
   "source": [
    "# Create Boolean mask for privately-owned stations\n",
    "is_private = public_electric['owner'] == 'private'\n",
    "\n",
    "# Filter using the mask and assign to privately_owned\n",
    "privately_owned = public_electric[is_private]\n",
    "\n",
    "# Display the first few rows (optional)\n",
    "print(privately_owned.head())"
   ]
  },
  {
   "cell_type": "markdown",
   "id": "3cefc577",
   "metadata": {},
   "source": [
    "### Task 14\n",
    "\n",
    "Let's check how many states have privately-owned, publicly-accessible electric charging stations. Call `.describe()` on the `state` column of `privately_owned`."
   ]
  },
  {
   "cell_type": "code",
   "execution_count": 15,
   "id": "9419e685",
   "metadata": {},
   "outputs": [
    {
     "name": "stdout",
     "output_type": "stream",
     "text": [
      "count     51\n",
      "unique    51\n",
      "top       AK\n",
      "freq       1\n",
      "Name: state, dtype: object\n"
     ]
    }
   ],
   "source": [
    "# Call .describe() on the 'state' column\n",
    "print(privately_owned['state'].describe())"
   ]
  },
  {
   "cell_type": "markdown",
   "id": "66cc7830",
   "metadata": {},
   "source": [
    "<details>\n",
    "    <summary style=\"display:list-item; font-size:16px; color:blue;\"><i>What did we discover in Task 14? Toggle to check!</i></summary>\n",
    "\n",
    "There are 51 unique values in the `privately_owned` state column. So it looks like all 50 states and (likely) the District of Columbia have at least one privately-owned, publicly-accessible electric charging station. \n",
    "    \n",
    "We can't be 100% sure without actually looking at the data: it is possible that one state abbreviation got misspelled, producing a count of 51 distinct entries without actually having 51 distinct entries. But this is good initial evidence!\n",
    "</details>"
   ]
  },
  {
   "cell_type": "markdown",
   "id": "14168bea",
   "metadata": {},
   "source": [
    "### Task 15\n",
    "\n",
    "Let's compare this to the publicly-owned stations. Use the Boolean mask you created in Task 12 to filter `public_electric` down to only rows with *non*-private ownership. Assign the result to the variable `not_privately_owned`."
   ]
  },
  {
   "cell_type": "code",
   "execution_count": 16,
   "id": "554dd225",
   "metadata": {},
   "outputs": [
    {
     "name": "stdout",
     "output_type": "stream",
     "text": [
      "         fuel state            owner  access  number_of_stations\n",
      "281  electric    AK       government  public                   6\n",
      "283  electric    AK  utility company  public                   3\n",
      "285  electric    AL       government  public                   1\n",
      "290  electric    AR       government  public                   8\n",
      "293  electric    AR  utility company  public                   1\n"
     ]
    }
   ],
   "source": [
    "# Invert the Boolean mask to get non-private ownership\n",
    "not_privately_owned = public_electric[~is_private]\n",
    "\n",
    "# Display the result (optional)\n",
    "print(not_privately_owned.head())"
   ]
  },
  {
   "cell_type": "markdown",
   "id": "b81bbbf8",
   "metadata": {},
   "source": [
    "### Task 16\n",
    "\n",
    "Let's check how many states have publicly-owned, publicly-accessible electric charging stations. Call `.describe()` on the `state` column of `not_privately_owned`."
   ]
  },
  {
   "cell_type": "code",
   "execution_count": 17,
   "id": "c7dfac4f",
   "metadata": {},
   "outputs": [
    {
     "name": "stdout",
     "output_type": "stream",
     "text": [
      "count     83\n",
      "unique    49\n",
      "top       NY\n",
      "freq       3\n",
      "Name: state, dtype: object\n"
     ]
    }
   ],
   "source": [
    "# Check summary statistics for states with publicly-owned charging stations\n",
    "print(not_privately_owned['state'].describe())\n"
   ]
  },
  {
   "cell_type": "markdown",
   "id": "35027731",
   "metadata": {},
   "source": [
    "<details>\n",
    "    <summary style=\"display:list-item; font-size:16px; color:blue;\"><i>What did we discover in Task 16? Toggle to check!</i></summary>\n",
    "\n",
    "There are only 49 unique entries, so it is likely that there are two states (possibly one state and the District of Columbia) that have *zero* publicly-owned and publicly-accessible electric charging stations.\n",
    "\n",
    "</details>"
   ]
  },
  {
   "cell_type": "markdown",
   "id": "243fe3e3",
   "metadata": {},
   "source": [
    "### Task 17\n",
    "\n",
    "Let's investigate publicly-owned stations a bit further. Call `.describe()` on the `number_of_stations` column of `not_privately_owned`."
   ]
  },
  {
   "cell_type": "code",
   "execution_count": 19,
   "id": "f1cd0490",
   "metadata": {},
   "outputs": [
    {
     "name": "stdout",
     "output_type": "stream",
     "text": [
      "count     83.000000\n",
      "mean      17.927711\n",
      "std       44.294409\n",
      "min        1.000000\n",
      "25%        1.000000\n",
      "50%        6.000000\n",
      "75%       17.000000\n",
      "max      361.000000\n",
      "Name: number_of_stations, dtype: float64\n"
     ]
    }
   ],
   "source": [
    "\n",
    "print(not_privately_owned['number_of_stations'].describe())"
   ]
  },
  {
   "cell_type": "markdown",
   "id": "8c997732",
   "metadata": {},
   "source": [
    "### Task 18\n",
    "\n",
    "The maximum number of stations is quite a bit larger than the 75th percentile. Let's look at the rows between these values. \n",
    "\n",
    "Create a Boolean mask that is true in each row of `not_privately_owned` where the `number_of_stations` is bigger than 17 (the 75th percentile)."
   ]
  },
  {
   "cell_type": "code",
   "execution_count": 21,
   "id": "ecb8a65c",
   "metadata": {},
   "outputs": [
    {
     "name": "stdout",
     "output_type": "stream",
     "text": [
      "281    False\n",
      "283    False\n",
      "285    False\n",
      "290    False\n",
      "293    False\n",
      "       ...  \n",
      "525    False\n",
      "527    False\n",
      "531    False\n",
      "533    False\n",
      "537    False\n",
      "Name: number_of_stations, Length: 83, dtype: bool\n"
     ]
    }
   ],
   "source": [
    "# Create the mask for number_of_stations greater than 17\n",
    "over_17 = not_privately_owned['number_of_stations'] > 17 \n",
    "\n",
    "print(over_17)"
   ]
  },
  {
   "cell_type": "markdown",
   "id": "b2c80d4d",
   "metadata": {},
   "source": [
    "### Task 19\n",
    "\n",
    "Filter `not_privately_owned` down to only rows with `number_of_stations` bigger than 17. Assign the result to the variable `above_17`."
   ]
  },
  {
   "cell_type": "code",
   "execution_count": 24,
   "id": "c9069b01",
   "metadata": {},
   "outputs": [
    {
     "data": {
      "text/html": [
       "<div>\n",
       "<style scoped>\n",
       "    .dataframe tbody tr th:only-of-type {\n",
       "        vertical-align: middle;\n",
       "    }\n",
       "\n",
       "    .dataframe tbody tr th {\n",
       "        vertical-align: top;\n",
       "    }\n",
       "\n",
       "    .dataframe thead th {\n",
       "        text-align: right;\n",
       "    }\n",
       "</style>\n",
       "<table border=\"1\" class=\"dataframe\">\n",
       "  <thead>\n",
       "    <tr style=\"text-align: right;\">\n",
       "      <th></th>\n",
       "      <th>fuel</th>\n",
       "      <th>state</th>\n",
       "      <th>owner</th>\n",
       "      <th>access</th>\n",
       "      <th>number_of_stations</th>\n",
       "    </tr>\n",
       "  </thead>\n",
       "  <tbody>\n",
       "    <tr>\n",
       "      <th>299</th>\n",
       "      <td>electric</td>\n",
       "      <td>CA</td>\n",
       "      <td>government</td>\n",
       "      <td>public</td>\n",
       "      <td>361</td>\n",
       "    </tr>\n",
       "    <tr>\n",
       "      <th>303</th>\n",
       "      <td>electric</td>\n",
       "      <td>CA</td>\n",
       "      <td>utility company</td>\n",
       "      <td>public</td>\n",
       "      <td>40</td>\n",
       "    </tr>\n",
       "    <tr>\n",
       "      <th>305</th>\n",
       "      <td>electric</td>\n",
       "      <td>CO</td>\n",
       "      <td>government</td>\n",
       "      <td>public</td>\n",
       "      <td>59</td>\n",
       "    </tr>\n",
       "    <tr>\n",
       "      <th>311</th>\n",
       "      <td>electric</td>\n",
       "      <td>CT</td>\n",
       "      <td>government</td>\n",
       "      <td>public</td>\n",
       "      <td>106</td>\n",
       "    </tr>\n",
       "    <tr>\n",
       "      <th>327</th>\n",
       "      <td>electric</td>\n",
       "      <td>FL</td>\n",
       "      <td>government</td>\n",
       "      <td>public</td>\n",
       "      <td>32</td>\n",
       "    </tr>\n",
       "  </tbody>\n",
       "</table>\n",
       "</div>"
      ],
      "text/plain": [
       "         fuel state            owner  access  number_of_stations\n",
       "299  electric    CA       government  public                 361\n",
       "303  electric    CA  utility company  public                  40\n",
       "305  electric    CO       government  public                  59\n",
       "311  electric    CT       government  public                 106\n",
       "327  electric    FL       government  public                  32"
      ]
     },
     "execution_count": 24,
     "metadata": {},
     "output_type": "execute_result"
    }
   ],
   "source": [
    "# Filter rows where number_of_stations is greater than 17\n",
    "above_17 = not_privately_owned[not_privately_owned['number_of_stations'] > 17]\n",
    "above_17.head()"
   ]
  },
  {
   "cell_type": "markdown",
   "id": "aa735511",
   "metadata": {},
   "source": [
    "### Task 20\n",
    "\n",
    "Sort `above_17` by `number_of_stations` and output the entirety of the result."
   ]
  },
  {
   "cell_type": "code",
   "execution_count": 25,
   "id": "ac57d229",
   "metadata": {},
   "outputs": [
    {
     "name": "stdout",
     "output_type": "stream",
     "text": [
      "         fuel state            owner  access  number_of_stations\n",
      "423  electric    NC  utility company  public                  18\n",
      "521  electric    WA       government  public                  19\n",
      "398  electric    MI  utility company  public                  19\n",
      "508  electric    VA       government  public                  19\n",
      "367  electric    KS  utility company  public                  21\n",
      "378  electric    MA       government  public                  22\n",
      "394  electric    MI       government  public                  22\n",
      "438  electric    NJ       government  public                  26\n",
      "384  electric    MD       government  public                  30\n",
      "390  electric    ME       government  public                  31\n",
      "331  electric    FL  utility company  public                  31\n",
      "327  electric    FL       government  public                  32\n",
      "460  electric    OH       government  public                  39\n",
      "303  electric    CA  utility company  public                  40\n",
      "475  electric    PA       government  public                  46\n",
      "418  electric    NC       government  public                  50\n",
      "305  electric    CO       government  public                  59\n",
      "484  electric    SC       government  public                  63\n",
      "311  electric    CT       government  public                 106\n",
      "453  electric    NY       government  public                 145\n",
      "299  electric    CA       government  public                 361\n"
     ]
    }
   ],
   "source": [
    "# Sort the DataFrame by number_of_stations from smallest to largest\n",
    "sorted_above_17 = above_17.sort_values(by='number_of_stations')\n",
    "\n",
    "# Display the entire sorted DataFrame\n",
    "print(sorted_above_17)\n"
   ]
  },
  {
   "cell_type": "markdown",
   "id": "b70fc9ee",
   "metadata": {},
   "source": [
    "<details>\n",
    "    <summary style=\"display:list-item; font-size:16px; color:blue;\"><i>What did we discover in Task 20? Toggle to check!</i></summary>\n",
    "\n",
    "There's no immediately obvious geographic pattern, though it is interesting that California has both the most government-owned and the most utility-owned stations. However, we'd have to compare against population to see if that's just a factor of California's size.\n",
    "    \n",
    "Combining datasets (like `stations` with a population dataset) is beyond the scope of this project -- but is a powerful feature of pandas that you'll learn if you keep going!\n",
    "\n",
    "</details>"
   ]
  },
  {
   "cell_type": "markdown",
   "id": "431f3f7f",
   "metadata": {},
   "source": [
    "## Task Group 3 - West Coast"
   ]
  },
  {
   "cell_type": "markdown",
   "id": "412e7a49",
   "metadata": {},
   "source": [
    "### Task 21\n",
    "\n",
    "In Task 20 we found that `CA` has \n",
    "1. the largest number of government-owned public-access electric stations\n",
    "2. the largest number of utility-owned public-access electric stations\n",
    "\n",
    "In Task 6, the full sorted DataFrame shows that `CA` also has the most privately-owned public-access electric stations. \n",
    "\n",
    "What about the rest of the west coast?\n",
    "\n",
    "Create two Boolean masks:\n",
    "- the first should be `True` whenever the `state` column of `public_electric` is `WA` (Washington)\n",
    "- the second should be `True` whenever the `state` column of `public_electric` is `OR` (Oregon)"
   ]
  },
  {
   "cell_type": "code",
   "execution_count": 26,
   "id": "db343a41",
   "metadata": {},
   "outputs": [],
   "source": [
    "# Boolean mask for Washington (WA)\n",
    "is_wa = public_electric['state'] == 'WA'\n",
    "\n",
    "# Boolean mask for Oregon (OR)\n",
    "is_or = public_electric['state'] == 'OR'"
   ]
  },
  {
   "cell_type": "markdown",
   "id": "8fde48e9",
   "metadata": {},
   "source": [
    "### Task 22\n",
    "\n",
    "Filter `public_electric` down to only those rows where `state` is either `WA` or `OR`. Assign the result to the variable `WA_or_OR`."
   ]
  },
  {
   "cell_type": "code",
   "execution_count": 28,
   "id": "50a96756",
   "metadata": {},
   "outputs": [
    {
     "name": "stdout",
     "output_type": "stream",
     "text": [
      "         fuel state            owner  access  number_of_stations\n",
      "469  electric    OR       government  public                  16\n",
      "471  electric    OR          private  public                 282\n",
      "473  electric    OR  utility company  public                   1\n",
      "521  electric    WA       government  public                  19\n",
      "523  electric    WA          private  public                 402\n",
      "525  electric    WA  utility company  public                   4\n"
     ]
    }
   ],
   "source": [
    "# Filter for rows where state is either WA or OR\n",
    "\n",
    "WA_or_OR = public_electric[(public_electric['state'] == 'WA') | (public_electric['state'] == 'OR')]\n",
    "print(WA_or_OR)"
   ]
  },
  {
   "cell_type": "markdown",
   "id": "863525b0",
   "metadata": {},
   "source": [
    "### Task 23\n",
    "\n",
    "Sort `WA_or_OR` first by `owner` and then, within each `owner`, by `number_of_stations`. Display the full output."
   ]
  },
  {
   "cell_type": "code",
   "execution_count": 29,
   "id": "13cf4ff6",
   "metadata": {},
   "outputs": [
    {
     "name": "stdout",
     "output_type": "stream",
     "text": [
      "         fuel state            owner  access  number_of_stations\n",
      "521  electric    WA       government  public                  19\n",
      "469  electric    OR       government  public                  16\n",
      "523  electric    WA          private  public                 402\n",
      "471  electric    OR          private  public                 282\n",
      "525  electric    WA  utility company  public                   4\n",
      "473  electric    OR  utility company  public                   1\n"
     ]
    }
   ],
   "source": [
    "# Sort first by owner, then by number_of_stations\n",
    "sorted_WA_or_OR = WA_or_OR.sort_values(by=['owner', 'number_of_stations'], ascending=[True, False])\n",
    "\n",
    "# Display the full output\n",
    "print(sorted_WA_or_OR)\n"
   ]
  },
  {
   "cell_type": "markdown",
   "id": "4c28cdbf",
   "metadata": {},
   "source": [
    "<details>\n",
    "    <summary style=\"display:list-item; font-size:16px; color:blue;\"><i>What did we discover in Task 23? Toggle to check!</i></summary>\n",
    "\n",
    "Both WA and OR have significantly more privately-owned stations than publicly-owned (among publicly-accessible stations.) At the time this project was created, the population of WA was about double the population of OR (slightly below, in fact). Do you think the proportions of stations make sense?\n",
    "\n",
    "</details>"
   ]
  },
  {
   "cell_type": "markdown",
   "id": "98164f76",
   "metadata": {},
   "source": [
    "That's the end of the project, but you can always add more cells below to explore the dataset further!"
   ]
  },
  {
   "cell_type": "code",
   "execution_count": null,
   "id": "a5697f43",
   "metadata": {},
   "outputs": [],
   "source": []
  }
 ],
 "metadata": {
  "kernelspec": {
   "display_name": "Python 3 (ipykernel)",
   "language": "python",
   "name": "python3"
  },
  "language_info": {
   "codemirror_mode": {
    "name": "ipython",
    "version": 3
   },
   "file_extension": ".py",
   "mimetype": "text/x-python",
   "name": "python",
   "nbconvert_exporter": "python",
   "pygments_lexer": "ipython3",
   "version": "3.8.10"
  }
 },
 "nbformat": 4,
 "nbformat_minor": 5
}
