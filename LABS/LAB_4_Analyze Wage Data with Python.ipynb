{
 "cells": [
  {
   "cell_type": "markdown",
   "id": "64ea4107-c24c-42d5-8e12-1309ff801e9b",
   "metadata": {
    "tags": []
   },
   "source": [
    "# Analyze Wage Data with Python\n",
    "\n",
    "- [View Solution Notebook](./solutions.html)\n",
    "- [View Project Page](https://www.codecademy.com/projects/practice/analyze-wage-data-with-python)"
   ]
  },
  {
   "cell_type": "markdown",
   "id": "fb1954dd-07f0-4544-aa1f-ba0e16c01314",
   "metadata": {
    "tags": []
   },
   "source": [
    "## Task Group 1 - Import and Clean"
   ]
  },
  {
   "cell_type": "markdown",
   "id": "7ca74136-3d4d-476a-a22d-4a954c133ea4",
   "metadata": {},
   "source": [
    "### Task 1\n",
    "\n",
    "Display the first five lines of `df_wages`."
   ]
  },
  {
   "cell_type": "code",
   "execution_count": 39,
   "id": "b6d195a1-20e3-4e00-a95c-d830219cd667",
   "metadata": {},
   "outputs": [],
   "source": [
    "import pandas as pd\n",
    "\n",
    "df_wages = pd.read_csv('wages.csv')\n",
    "\n",
    "# Preview the data\n"
   ]
  },
  {
   "cell_type": "markdown",
   "id": "d2381b76",
   "metadata": {},
   "source": [
    "### Task 2\n",
    "\n",
    "Rename the `Occupation title (click on the occupation title to view its profile)` column to `Occupation title`. "
   ]
  },
  {
   "cell_type": "code",
   "execution_count": 40,
   "id": "7e69e90c",
   "metadata": {},
   "outputs": [
    {
     "data": {
      "text/html": [
       "<div>\n",
       "<style scoped>\n",
       "    .dataframe tbody tr th:only-of-type {\n",
       "        vertical-align: middle;\n",
       "    }\n",
       "\n",
       "    .dataframe tbody tr th {\n",
       "        vertical-align: top;\n",
       "    }\n",
       "\n",
       "    .dataframe thead th {\n",
       "        text-align: right;\n",
       "    }\n",
       "</style>\n",
       "<table border=\"1\" class=\"dataframe\">\n",
       "  <thead>\n",
       "    <tr style=\"text-align: right;\">\n",
       "      <th></th>\n",
       "      <th>Index</th>\n",
       "      <th>Occupation title</th>\n",
       "      <th>Year</th>\n",
       "      <th>Employment</th>\n",
       "      <th>Average hourly wage</th>\n",
       "      <th>Industry average</th>\n",
       "      <th>Similar occupation average</th>\n",
       "    </tr>\n",
       "  </thead>\n",
       "  <tbody>\n",
       "    <tr>\n",
       "      <th>0</th>\n",
       "      <td>0</td>\n",
       "      <td>Management Occupations - Top Executives - Chie...</td>\n",
       "      <td>2021</td>\n",
       "      <td>200480</td>\n",
       "      <td>$102.41</td>\n",
       "      <td>$59.31</td>\n",
       "      <td>$57.94</td>\n",
       "    </tr>\n",
       "    <tr>\n",
       "      <th>1</th>\n",
       "      <td>1</td>\n",
       "      <td>Management Occupations - Top Executives - Gene...</td>\n",
       "      <td>2021</td>\n",
       "      <td>2984920</td>\n",
       "      <td>$55.41</td>\n",
       "      <td>$59.31</td>\n",
       "      <td>$57.94</td>\n",
       "    </tr>\n",
       "    <tr>\n",
       "      <th>2</th>\n",
       "      <td>2</td>\n",
       "      <td>Management Occupations - Top Executives - Legi...</td>\n",
       "      <td>2021</td>\n",
       "      <td>44590</td>\n",
       "      <td>NaN</td>\n",
       "      <td>$59.31</td>\n",
       "      <td>$57.94</td>\n",
       "    </tr>\n",
       "    <tr>\n",
       "      <th>3</th>\n",
       "      <td>3</td>\n",
       "      <td>Management Occupations - Advertising, Marketin...</td>\n",
       "      <td>2021</td>\n",
       "      <td>22520</td>\n",
       "      <td>$68.68</td>\n",
       "      <td>$59.31</td>\n",
       "      <td>$69.77</td>\n",
       "    </tr>\n",
       "    <tr>\n",
       "      <th>4</th>\n",
       "      <td>4</td>\n",
       "      <td>Management Occupations - Advertising, Marketin...</td>\n",
       "      <td>2021</td>\n",
       "      <td>278690</td>\n",
       "      <td>$73.77</td>\n",
       "      <td>$59.31</td>\n",
       "      <td>$69.77</td>\n",
       "    </tr>\n",
       "    <tr>\n",
       "      <th>5</th>\n",
       "      <td>5</td>\n",
       "      <td>Management Occupations - Advertising, Marketin...</td>\n",
       "      <td>2021</td>\n",
       "      <td>453800</td>\n",
       "      <td>$68.46</td>\n",
       "      <td>$59.31</td>\n",
       "      <td>$69.77</td>\n",
       "    </tr>\n",
       "    <tr>\n",
       "      <th>6</th>\n",
       "      <td>6</td>\n",
       "      <td>Management Occupations - Advertising, Marketin...</td>\n",
       "      <td>2021</td>\n",
       "      <td>59850</td>\n",
       "      <td>$66.35</td>\n",
       "      <td>$59.31</td>\n",
       "      <td>$69.77</td>\n",
       "    </tr>\n",
       "    <tr>\n",
       "      <th>7</th>\n",
       "      <td>7</td>\n",
       "      <td>Management Occupations - Advertising, Marketin...</td>\n",
       "      <td>2021</td>\n",
       "      <td>23190</td>\n",
       "      <td>$57.40</td>\n",
       "      <td>$59.31</td>\n",
       "      <td>$69.77</td>\n",
       "    </tr>\n",
       "    <tr>\n",
       "      <th>8</th>\n",
       "      <td>8</td>\n",
       "      <td>Management Occupations - Operations Specialtie...</td>\n",
       "      <td>2021</td>\n",
       "      <td>224620</td>\n",
       "      <td>$54.34</td>\n",
       "      <td>$59.31</td>\n",
       "      <td>$67.26</td>\n",
       "    </tr>\n",
       "    <tr>\n",
       "      <th>9</th>\n",
       "      <td>9</td>\n",
       "      <td>Management Occupations - Operations Specialtie...</td>\n",
       "      <td>2021</td>\n",
       "      <td>101230</td>\n",
       "      <td>$49.03</td>\n",
       "      <td>$59.31</td>\n",
       "      <td>$67.26</td>\n",
       "    </tr>\n",
       "    <tr>\n",
       "      <th>10</th>\n",
       "      <td>10</td>\n",
       "      <td>Management Occupations - Operations Specialtie...</td>\n",
       "      <td>2021</td>\n",
       "      <td>485190</td>\n",
       "      <td>$78.33</td>\n",
       "      <td>$59.31</td>\n",
       "      <td>$67.26</td>\n",
       "    </tr>\n",
       "    <tr>\n",
       "      <th>11</th>\n",
       "      <td>11</td>\n",
       "      <td>Management Occupations - Operations Specialtie...</td>\n",
       "      <td>2021</td>\n",
       "      <td>681070</td>\n",
       "      <td>$73.78</td>\n",
       "      <td>$59.31</td>\n",
       "      <td>$67.26</td>\n",
       "    </tr>\n",
       "    <tr>\n",
       "      <th>12</th>\n",
       "      <td>12</td>\n",
       "      <td>Management Occupations - Operations Specialtie...</td>\n",
       "      <td>2021</td>\n",
       "      <td>192270</td>\n",
       "      <td>$56.62</td>\n",
       "      <td>$59.31</td>\n",
       "      <td>$67.26</td>\n",
       "    </tr>\n",
       "    <tr>\n",
       "      <th>13</th>\n",
       "      <td>13</td>\n",
       "      <td>Management Occupations - Operations Specialtie...</td>\n",
       "      <td>2021</td>\n",
       "      <td>69310</td>\n",
       "      <td>$64.71</td>\n",
       "      <td>$59.31</td>\n",
       "      <td>$67.26</td>\n",
       "    </tr>\n",
       "    <tr>\n",
       "      <th>14</th>\n",
       "      <td>14</td>\n",
       "      <td>Management Occupations - Operations Specialtie...</td>\n",
       "      <td>2021</td>\n",
       "      <td>144640</td>\n",
       "      <td>$50.76</td>\n",
       "      <td>$59.31</td>\n",
       "      <td>$67.26</td>\n",
       "    </tr>\n",
       "  </tbody>\n",
       "</table>\n",
       "</div>"
      ],
      "text/plain": [
       "    Index                                   Occupation title  Year  \\\n",
       "0       0  Management Occupations - Top Executives - Chie...  2021   \n",
       "1       1  Management Occupations - Top Executives - Gene...  2021   \n",
       "2       2  Management Occupations - Top Executives - Legi...  2021   \n",
       "3       3  Management Occupations - Advertising, Marketin...  2021   \n",
       "4       4  Management Occupations - Advertising, Marketin...  2021   \n",
       "5       5  Management Occupations - Advertising, Marketin...  2021   \n",
       "6       6  Management Occupations - Advertising, Marketin...  2021   \n",
       "7       7  Management Occupations - Advertising, Marketin...  2021   \n",
       "8       8  Management Occupations - Operations Specialtie...  2021   \n",
       "9       9  Management Occupations - Operations Specialtie...  2021   \n",
       "10     10  Management Occupations - Operations Specialtie...  2021   \n",
       "11     11  Management Occupations - Operations Specialtie...  2021   \n",
       "12     12  Management Occupations - Operations Specialtie...  2021   \n",
       "13     13  Management Occupations - Operations Specialtie...  2021   \n",
       "14     14  Management Occupations - Operations Specialtie...  2021   \n",
       "\n",
       "    Employment Average hourly wage Industry average Similar occupation average  \n",
       "0       200480             $102.41           $59.31                     $57.94  \n",
       "1      2984920              $55.41           $59.31                     $57.94  \n",
       "2        44590                 NaN           $59.31                     $57.94  \n",
       "3        22520              $68.68           $59.31                     $69.77  \n",
       "4       278690              $73.77           $59.31                     $69.77  \n",
       "5       453800              $68.46           $59.31                     $69.77  \n",
       "6        59850              $66.35           $59.31                     $69.77  \n",
       "7        23190              $57.40           $59.31                     $69.77  \n",
       "8       224620              $54.34           $59.31                     $67.26  \n",
       "9       101230              $49.03           $59.31                     $67.26  \n",
       "10      485190              $78.33           $59.31                     $67.26  \n",
       "11      681070              $73.78           $59.31                     $67.26  \n",
       "12      192270              $56.62           $59.31                     $67.26  \n",
       "13       69310              $64.71           $59.31                     $67.26  \n",
       "14      144640              $50.76           $59.31                     $67.26  "
      ]
     },
     "execution_count": 40,
     "metadata": {},
     "output_type": "execute_result"
    }
   ],
   "source": [
    "\n",
    "# Rename the column\n",
    "df_wages = df_wages.rename(columns={'Occupation title (click on the occupation title to view its profile)': 'Occupation title'})\n",
    "\n",
    "# Preview the data\n",
    "df_wages.head(15)\n",
    "# show output\n"
   ]
  },
  {
   "cell_type": "markdown",
   "id": "2c8730dd-8a8a-4423-b423-e3feba6b93ba",
   "metadata": {},
   "source": [
    "### Task 3\n",
    "\n",
    "Drop any redundant or otherwise unnecessary columns from `df_wages`. Make a note of why these columns are suitable for dropping!"
   ]
  },
  {
   "cell_type": "code",
   "execution_count": 41,
   "id": "c0339a3b-f94b-4555-9be3-cdd5217da812",
   "metadata": {},
   "outputs": [
    {
     "name": "stdout",
     "output_type": "stream",
     "text": [
      "Index(['Index', 'Occupation title', 'Year', 'Employment',\n",
      "       'Average hourly wage', 'Industry average',\n",
      "       'Similar occupation average'],\n",
      "      dtype='object')\n"
     ]
    }
   ],
   "source": [
    "# Drop columns not useful for analysis\n",
    "df_wages = df_wages.drop(columns=['Footnote', 'OES Code', 'Unnamed: 0'], errors='ignore')\n",
    "\n",
    "# Show remaining columns\n",
    "print(df_wages.columns)\n"
   ]
  },
  {
   "cell_type": "markdown",
   "id": "474b5d05-8a27-495f-9bf8-1ea7561b72ae",
   "metadata": {},
   "source": [
    "### Task 4\n",
    "\n",
    "Display column information including names, # non-null entries, and data types."
   ]
  },
  {
   "cell_type": "code",
   "execution_count": 42,
   "id": "2bbb3f80-28f1-4e30-8f23-d0859ce5ce0c",
   "metadata": {},
   "outputs": [
    {
     "name": "stdout",
     "output_type": "stream",
     "text": [
      "<class 'pandas.core.frame.DataFrame'>\n",
      "RangeIndex: 824 entries, 0 to 823\n",
      "Data columns (total 7 columns):\n",
      " #   Column                      Non-Null Count  Dtype \n",
      "---  ------                      --------------  ----- \n",
      " 0   Index                       824 non-null    int64 \n",
      " 1   Occupation title            824 non-null    object\n",
      " 2   Year                        824 non-null    int64 \n",
      " 3   Employment                  824 non-null    int64 \n",
      " 4   Average hourly wage         764 non-null    object\n",
      " 5   Industry average            824 non-null    object\n",
      " 6   Similar occupation average  765 non-null    object\n",
      "dtypes: int64(3), object(4)\n",
      "memory usage: 45.2+ KB\n"
     ]
    }
   ],
   "source": [
    "df_wages.info()\n"
   ]
  },
  {
   "cell_type": "markdown",
   "id": "47795a24-1d0b-410e-9334-48d49bc82c85",
   "metadata": {},
   "source": [
    "## Task Group 2 - Column Transformations"
   ]
  },
  {
   "cell_type": "markdown",
   "id": "54a3e724-5bfe-4ff4-8dc9-ae1b42c68e0c",
   "metadata": {},
   "source": [
    "### Task 5\n",
    "\n",
    "Use pandas to split the information in the `Occupation title` column into new columns `Industry`, `Level`, and `Occupation`. "
   ]
  },
  {
   "cell_type": "code",
   "execution_count": 43,
   "id": "b15c14fa-f76d-480a-985c-9f89928a0efe",
   "metadata": {},
   "outputs": [
    {
     "data": {
      "text/html": [
       "<div>\n",
       "<style scoped>\n",
       "    .dataframe tbody tr th:only-of-type {\n",
       "        vertical-align: middle;\n",
       "    }\n",
       "\n",
       "    .dataframe tbody tr th {\n",
       "        vertical-align: top;\n",
       "    }\n",
       "\n",
       "    .dataframe thead th {\n",
       "        text-align: right;\n",
       "    }\n",
       "</style>\n",
       "<table border=\"1\" class=\"dataframe\">\n",
       "  <thead>\n",
       "    <tr style=\"text-align: right;\">\n",
       "      <th></th>\n",
       "      <th>Occupation title</th>\n",
       "      <th>Industry</th>\n",
       "      <th>Level</th>\n",
       "      <th>Occupation</th>\n",
       "    </tr>\n",
       "  </thead>\n",
       "  <tbody>\n",
       "    <tr>\n",
       "      <th>0</th>\n",
       "      <td>Management Occupations - Top Executives - Chie...</td>\n",
       "      <td>Management Occupations</td>\n",
       "      <td>Top Executives</td>\n",
       "      <td>Chief Executives</td>\n",
       "    </tr>\n",
       "    <tr>\n",
       "      <th>1</th>\n",
       "      <td>Management Occupations - Top Executives - Gene...</td>\n",
       "      <td>Management Occupations</td>\n",
       "      <td>Top Executives</td>\n",
       "      <td>General and Operations Managers</td>\n",
       "    </tr>\n",
       "    <tr>\n",
       "      <th>2</th>\n",
       "      <td>Management Occupations - Top Executives - Legi...</td>\n",
       "      <td>Management Occupations</td>\n",
       "      <td>Top Executives</td>\n",
       "      <td>Legislators</td>\n",
       "    </tr>\n",
       "    <tr>\n",
       "      <th>3</th>\n",
       "      <td>Management Occupations - Advertising, Marketin...</td>\n",
       "      <td>Management Occupations</td>\n",
       "      <td>Advertising, Marketing, Promotions, Public Rel...</td>\n",
       "      <td>Advertising and Promotions Managers</td>\n",
       "    </tr>\n",
       "    <tr>\n",
       "      <th>4</th>\n",
       "      <td>Management Occupations - Advertising, Marketin...</td>\n",
       "      <td>Management Occupations</td>\n",
       "      <td>Advertising, Marketing, Promotions, Public Rel...</td>\n",
       "      <td>Marketing Managers</td>\n",
       "    </tr>\n",
       "    <tr>\n",
       "      <th>5</th>\n",
       "      <td>Management Occupations - Advertising, Marketin...</td>\n",
       "      <td>Management Occupations</td>\n",
       "      <td>Advertising, Marketing, Promotions, Public Rel...</td>\n",
       "      <td>Sales Managers</td>\n",
       "    </tr>\n",
       "    <tr>\n",
       "      <th>6</th>\n",
       "      <td>Management Occupations - Advertising, Marketin...</td>\n",
       "      <td>Management Occupations</td>\n",
       "      <td>Advertising, Marketing, Promotions, Public Rel...</td>\n",
       "      <td>Public Relations Managers</td>\n",
       "    </tr>\n",
       "    <tr>\n",
       "      <th>7</th>\n",
       "      <td>Management Occupations - Advertising, Marketin...</td>\n",
       "      <td>Management Occupations</td>\n",
       "      <td>Advertising, Marketing, Promotions, Public Rel...</td>\n",
       "      <td>Fundraising Managers</td>\n",
       "    </tr>\n",
       "    <tr>\n",
       "      <th>8</th>\n",
       "      <td>Management Occupations - Operations Specialtie...</td>\n",
       "      <td>Management Occupations</td>\n",
       "      <td>Operations Specialties Managers</td>\n",
       "      <td>Administrative Services Managers</td>\n",
       "    </tr>\n",
       "    <tr>\n",
       "      <th>9</th>\n",
       "      <td>Management Occupations - Operations Specialtie...</td>\n",
       "      <td>Management Occupations</td>\n",
       "      <td>Operations Specialties Managers</td>\n",
       "      <td>Facilities Managers</td>\n",
       "    </tr>\n",
       "  </tbody>\n",
       "</table>\n",
       "</div>"
      ],
      "text/plain": [
       "                                    Occupation title                Industry  \\\n",
       "0  Management Occupations - Top Executives - Chie...  Management Occupations   \n",
       "1  Management Occupations - Top Executives - Gene...  Management Occupations   \n",
       "2  Management Occupations - Top Executives - Legi...  Management Occupations   \n",
       "3  Management Occupations - Advertising, Marketin...  Management Occupations   \n",
       "4  Management Occupations - Advertising, Marketin...  Management Occupations   \n",
       "5  Management Occupations - Advertising, Marketin...  Management Occupations   \n",
       "6  Management Occupations - Advertising, Marketin...  Management Occupations   \n",
       "7  Management Occupations - Advertising, Marketin...  Management Occupations   \n",
       "8  Management Occupations - Operations Specialtie...  Management Occupations   \n",
       "9  Management Occupations - Operations Specialtie...  Management Occupations   \n",
       "\n",
       "                                               Level  \\\n",
       "0                                     Top Executives   \n",
       "1                                     Top Executives   \n",
       "2                                     Top Executives   \n",
       "3  Advertising, Marketing, Promotions, Public Rel...   \n",
       "4  Advertising, Marketing, Promotions, Public Rel...   \n",
       "5  Advertising, Marketing, Promotions, Public Rel...   \n",
       "6  Advertising, Marketing, Promotions, Public Rel...   \n",
       "7  Advertising, Marketing, Promotions, Public Rel...   \n",
       "8                    Operations Specialties Managers   \n",
       "9                    Operations Specialties Managers   \n",
       "\n",
       "                            Occupation  \n",
       "0                     Chief Executives  \n",
       "1      General and Operations Managers  \n",
       "2                          Legislators  \n",
       "3  Advertising and Promotions Managers  \n",
       "4                   Marketing Managers  \n",
       "5                       Sales Managers  \n",
       "6            Public Relations Managers  \n",
       "7                 Fundraising Managers  \n",
       "8     Administrative Services Managers  \n",
       "9                  Facilities Managers  "
      ]
     },
     "execution_count": 43,
     "metadata": {},
     "output_type": "execute_result"
    }
   ],
   "source": [
    "# Example split assuming the delimiter is \" - \"\n",
    "split_cols = df_wages['Occupation title'].str.split(' - ', expand=True)\n",
    "\n",
    "# Rename the new columns\n",
    "split_cols.columns = ['Industry', 'Level', 'Occupation']\n",
    "\n",
    "# Combine the new columns back into the original DataFrame\n",
    "df_wages = pd.concat([df_wages, split_cols], axis=1)\n",
    "\n",
    "# Optional: drop the original column if it's no longer needed\n",
    "# df_wages.drop(columns=['Occupation title'], inplace=True)\n",
    "\n",
    "# Show the updated DataFrame\n",
    "df_wages[['Occupation title', 'Industry', 'Level', 'Occupation']].head(10)"
   ]
  },
  {
   "cell_type": "markdown",
   "id": "a226e990-7175-419e-985c-aa567cc32640",
   "metadata": {},
   "source": [
    "### Task 6\n",
    "\n",
    "Remove any leading and trailing whitespaces in the columns `Industry`, `Level`, and `Occupation`."
   ]
  },
  {
   "cell_type": "code",
   "execution_count": 44,
   "id": "5bd896cf-571e-47c3-8816-81a492131e9b",
   "metadata": {},
   "outputs": [
    {
     "data": {
      "text/html": [
       "<div>\n",
       "<style scoped>\n",
       "    .dataframe tbody tr th:only-of-type {\n",
       "        vertical-align: middle;\n",
       "    }\n",
       "\n",
       "    .dataframe tbody tr th {\n",
       "        vertical-align: top;\n",
       "    }\n",
       "\n",
       "    .dataframe thead th {\n",
       "        text-align: right;\n",
       "    }\n",
       "</style>\n",
       "<table border=\"1\" class=\"dataframe\">\n",
       "  <thead>\n",
       "    <tr style=\"text-align: right;\">\n",
       "      <th></th>\n",
       "      <th>Occupation title</th>\n",
       "      <th>Industry</th>\n",
       "      <th>Level</th>\n",
       "      <th>Occupation</th>\n",
       "    </tr>\n",
       "  </thead>\n",
       "  <tbody>\n",
       "    <tr>\n",
       "      <th>0</th>\n",
       "      <td>Management Occupations - Top Executives - Chie...</td>\n",
       "      <td>Management Occupations - Top Executives - Chie...</td>\n",
       "      <td>None</td>\n",
       "      <td>None</td>\n",
       "    </tr>\n",
       "    <tr>\n",
       "      <th>1</th>\n",
       "      <td>Management Occupations - Top Executives - Gene...</td>\n",
       "      <td>Management Occupations - Top Executives - Gene...</td>\n",
       "      <td>None</td>\n",
       "      <td>None</td>\n",
       "    </tr>\n",
       "    <tr>\n",
       "      <th>2</th>\n",
       "      <td>Management Occupations - Top Executives - Legi...</td>\n",
       "      <td>Management Occupations - Top Executives - Legi...</td>\n",
       "      <td>None</td>\n",
       "      <td>None</td>\n",
       "    </tr>\n",
       "    <tr>\n",
       "      <th>3</th>\n",
       "      <td>Management Occupations - Advertising, Marketin...</td>\n",
       "      <td>Management Occupations - Advertising, Marketin...</td>\n",
       "      <td>None</td>\n",
       "      <td>None</td>\n",
       "    </tr>\n",
       "    <tr>\n",
       "      <th>4</th>\n",
       "      <td>Management Occupations - Advertising, Marketin...</td>\n",
       "      <td>Management Occupations - Advertising, Marketin...</td>\n",
       "      <td>None</td>\n",
       "      <td>None</td>\n",
       "    </tr>\n",
       "    <tr>\n",
       "      <th>5</th>\n",
       "      <td>Management Occupations - Advertising, Marketin...</td>\n",
       "      <td>Management Occupations - Advertising, Marketin...</td>\n",
       "      <td>None</td>\n",
       "      <td>None</td>\n",
       "    </tr>\n",
       "    <tr>\n",
       "      <th>6</th>\n",
       "      <td>Management Occupations - Advertising, Marketin...</td>\n",
       "      <td>Management Occupations - Advertising, Marketin...</td>\n",
       "      <td>None</td>\n",
       "      <td>None</td>\n",
       "    </tr>\n",
       "    <tr>\n",
       "      <th>7</th>\n",
       "      <td>Management Occupations - Advertising, Marketin...</td>\n",
       "      <td>Management Occupations - Advertising, Marketin...</td>\n",
       "      <td>None</td>\n",
       "      <td>None</td>\n",
       "    </tr>\n",
       "    <tr>\n",
       "      <th>8</th>\n",
       "      <td>Management Occupations - Operations Specialtie...</td>\n",
       "      <td>Management Occupations - Operations Specialtie...</td>\n",
       "      <td>None</td>\n",
       "      <td>None</td>\n",
       "    </tr>\n",
       "    <tr>\n",
       "      <th>9</th>\n",
       "      <td>Management Occupations - Operations Specialtie...</td>\n",
       "      <td>Management Occupations - Operations Specialtie...</td>\n",
       "      <td>None</td>\n",
       "      <td>None</td>\n",
       "    </tr>\n",
       "  </tbody>\n",
       "</table>\n",
       "</div>"
      ],
      "text/plain": [
       "                                    Occupation title  \\\n",
       "0  Management Occupations - Top Executives - Chie...   \n",
       "1  Management Occupations - Top Executives - Gene...   \n",
       "2  Management Occupations - Top Executives - Legi...   \n",
       "3  Management Occupations - Advertising, Marketin...   \n",
       "4  Management Occupations - Advertising, Marketin...   \n",
       "5  Management Occupations - Advertising, Marketin...   \n",
       "6  Management Occupations - Advertising, Marketin...   \n",
       "7  Management Occupations - Advertising, Marketin...   \n",
       "8  Management Occupations - Operations Specialtie...   \n",
       "9  Management Occupations - Operations Specialtie...   \n",
       "\n",
       "                                            Industry Level Occupation  \n",
       "0  Management Occupations - Top Executives - Chie...  None       None  \n",
       "1  Management Occupations - Top Executives - Gene...  None       None  \n",
       "2  Management Occupations - Top Executives - Legi...  None       None  \n",
       "3  Management Occupations - Advertising, Marketin...  None       None  \n",
       "4  Management Occupations - Advertising, Marketin...  None       None  \n",
       "5  Management Occupations - Advertising, Marketin...  None       None  \n",
       "6  Management Occupations - Advertising, Marketin...  None       None  \n",
       "7  Management Occupations - Advertising, Marketin...  None       None  \n",
       "8  Management Occupations - Operations Specialtie...  None       None  \n",
       "9  Management Occupations - Operations Specialtie...  None       None  "
      ]
     },
     "execution_count": 44,
     "metadata": {},
     "output_type": "execute_result"
    }
   ],
   "source": [
    "\n",
    "# Split the 'Occupation title' into 3 parts: Industry, Level, Occupation\n",
    "split_cols = df_wages['Occupation title'].str.split('–', n=2, expand=True)\n",
    "\n",
    "# Assign the split columns, naming them\n",
    "df_wages['Industry'] = split_cols[0].str.strip()\n",
    "df_wages['Level'] = split_cols[1].str.strip() if 1 in split_cols.columns else None\n",
    "df_wages['Occupation'] = split_cols[2].str.strip() if 2 in split_cols.columns else None\n",
    "\n",
    "# Display the result\n",
    "df_wages[['Occupation title', 'Industry', 'Level', 'Occupation']].head(10)"
   ]
  },
  {
   "cell_type": "markdown",
   "id": "ab6f4e3d-ffb1-4523-b154-6b25f43b74f2",
   "metadata": {},
   "source": [
    "### Task 7\n",
    "\n",
    "Replace the `'$'` character in the columns `Average hourly wage`, `Industry average`, and `Similar occupation average` with an empty character `''` (no space between the single quotes!)."
   ]
  },
  {
   "cell_type": "code",
   "execution_count": 45,
   "id": "c7f763cb-1178-4a35-a10d-9c99cc48732a",
   "metadata": {},
   "outputs": [
    {
     "data": {
      "text/html": [
       "<div>\n",
       "<style scoped>\n",
       "    .dataframe tbody tr th:only-of-type {\n",
       "        vertical-align: middle;\n",
       "    }\n",
       "\n",
       "    .dataframe tbody tr th {\n",
       "        vertical-align: top;\n",
       "    }\n",
       "\n",
       "    .dataframe thead th {\n",
       "        text-align: right;\n",
       "    }\n",
       "</style>\n",
       "<table border=\"1\" class=\"dataframe\">\n",
       "  <thead>\n",
       "    <tr style=\"text-align: right;\">\n",
       "      <th></th>\n",
       "      <th>Average hourly wage</th>\n",
       "      <th>Industry average</th>\n",
       "      <th>Similar occupation average</th>\n",
       "    </tr>\n",
       "  </thead>\n",
       "  <tbody>\n",
       "    <tr>\n",
       "      <th>0</th>\n",
       "      <td>102.41</td>\n",
       "      <td>59.31</td>\n",
       "      <td>57.94</td>\n",
       "    </tr>\n",
       "    <tr>\n",
       "      <th>1</th>\n",
       "      <td>55.41</td>\n",
       "      <td>59.31</td>\n",
       "      <td>57.94</td>\n",
       "    </tr>\n",
       "    <tr>\n",
       "      <th>2</th>\n",
       "      <td>NaN</td>\n",
       "      <td>59.31</td>\n",
       "      <td>57.94</td>\n",
       "    </tr>\n",
       "    <tr>\n",
       "      <th>3</th>\n",
       "      <td>68.68</td>\n",
       "      <td>59.31</td>\n",
       "      <td>69.77</td>\n",
       "    </tr>\n",
       "    <tr>\n",
       "      <th>4</th>\n",
       "      <td>73.77</td>\n",
       "      <td>59.31</td>\n",
       "      <td>69.77</td>\n",
       "    </tr>\n",
       "  </tbody>\n",
       "</table>\n",
       "</div>"
      ],
      "text/plain": [
       "  Average hourly wage Industry average Similar occupation average\n",
       "0              102.41            59.31                      57.94\n",
       "1               55.41            59.31                      57.94\n",
       "2                 NaN            59.31                      57.94\n",
       "3               68.68            59.31                      69.77\n",
       "4               73.77            59.31                      69.77"
      ]
     },
     "execution_count": 45,
     "metadata": {},
     "output_type": "execute_result"
    }
   ],
   "source": [
    "\n",
    "# Remove '$' from the specified columns\n",
    "df_wages['Average hourly wage'] = df_wages['Average hourly wage'].str.replace('$', '', regex=False)\n",
    "df_wages['Industry average'] = df_wages['Industry average'].str.replace('$', '', regex=False)\n",
    "df_wages['Similar occupation average'] = df_wages['Similar occupation average'].str.replace('$', '', regex=False)\n",
    "\n",
    "# Show the cleaned columns\n",
    "df_wages[['Average hourly wage', 'Industry average', 'Similar occupation average']].head()"
   ]
  },
  {
   "cell_type": "markdown",
   "id": "b8daf619-5ddf-40bc-8382-2622f90d6248",
   "metadata": {},
   "source": [
    "### Task 8\n",
    "\n",
    "Convert the data types of the columns `Average hourly wage`, `Industry average`, and `Similar occupation average` from `object` to `float`."
   ]
  },
  {
   "cell_type": "code",
   "execution_count": 46,
   "id": "9eef0cdf",
   "metadata": {},
   "outputs": [
    {
     "name": "stdout",
     "output_type": "stream",
     "text": [
      "<class 'pandas.core.frame.DataFrame'>\n",
      "RangeIndex: 824 entries, 0 to 823\n",
      "Data columns (total 10 columns):\n",
      " #   Column                      Non-Null Count  Dtype \n",
      "---  ------                      --------------  ----- \n",
      " 0   Index                       824 non-null    int64 \n",
      " 1   Occupation title            824 non-null    object\n",
      " 2   Year                        824 non-null    int64 \n",
      " 3   Employment                  824 non-null    int64 \n",
      " 4   Average hourly wage         764 non-null    object\n",
      " 5   Industry average            824 non-null    object\n",
      " 6   Similar occupation average  765 non-null    object\n",
      " 7   Industry                    824 non-null    object\n",
      " 8   Level                       0 non-null      object\n",
      " 9   Occupation                  0 non-null      object\n",
      "dtypes: int64(3), object(7)\n",
      "memory usage: 64.5+ KB\n"
     ]
    }
   ],
   "source": [
    "df_wages.info()"
   ]
  },
  {
   "cell_type": "code",
   "execution_count": 47,
   "id": "5a9f50f6-307c-4608-a37e-f4d96bab3ac9",
   "metadata": {},
   "outputs": [
    {
     "name": "stdout",
     "output_type": "stream",
     "text": [
      "Average hourly wage           float64\n",
      "Industry average              float64\n",
      "Similar occupation average    float64\n",
      "dtype: object\n"
     ]
    }
   ],
   "source": [
    "\n",
    "## Average hourly wage is object \n",
    "## Industry average is object \n",
    "## Similar occupation average is object\n",
    "\n",
    "# Convert columns to float\n",
    "df_wages['Average hourly wage'] = pd.to_numeric(df_wages['Average hourly wage'])\n",
    "df_wages['Industry average'] = pd.to_numeric(df_wages['Industry average'])\n",
    "df_wages['Similar occupation average'] = pd.to_numeric(df_wages['Similar occupation average'])\n",
    "\n",
    "# Check the updated data types\n",
    "print(df_wages.dtypes[['Average hourly wage', 'Industry average', 'Similar occupation average']])\n"
   ]
  },
  {
   "cell_type": "code",
   "execution_count": 48,
   "id": "b00c3a8f",
   "metadata": {},
   "outputs": [
    {
     "name": "stdout",
     "output_type": "stream",
     "text": [
      "<class 'pandas.core.frame.DataFrame'>\n",
      "RangeIndex: 824 entries, 0 to 823\n",
      "Data columns (total 10 columns):\n",
      " #   Column                      Non-Null Count  Dtype  \n",
      "---  ------                      --------------  -----  \n",
      " 0   Index                       824 non-null    int64  \n",
      " 1   Occupation title            824 non-null    object \n",
      " 2   Year                        824 non-null    int64  \n",
      " 3   Employment                  824 non-null    int64  \n",
      " 4   Average hourly wage         764 non-null    float64\n",
      " 5   Industry average            824 non-null    float64\n",
      " 6   Similar occupation average  765 non-null    float64\n",
      " 7   Industry                    824 non-null    object \n",
      " 8   Level                       0 non-null      object \n",
      " 9   Occupation                  0 non-null      object \n",
      "dtypes: float64(3), int64(3), object(4)\n",
      "memory usage: 64.5+ KB\n"
     ]
    }
   ],
   "source": [
    "df_wages.info()"
   ]
  },
  {
   "cell_type": "markdown",
   "id": "058ea3f7-22eb-468a-92b7-1455bcafa6c7",
   "metadata": {},
   "source": [
    "## Task Group 3 - Comparison to Industry Average"
   ]
  },
  {
   "cell_type": "markdown",
   "id": "599e642d-2839-4da4-829c-b1ba90beddb3",
   "metadata": {},
   "source": [
    "### Task 9\n",
    "\n",
    "Calculate the difference between the average hourly wage and the industry average. Assign the difference to a new column `Industry wage difference`."
   ]
  },
  {
   "cell_type": "code",
   "execution_count": 49,
   "id": "da784ebf-0cb3-4727-8da2-366853edaa4a",
   "metadata": {},
   "outputs": [
    {
     "name": "stdout",
     "output_type": "stream",
     "text": [
      "  Occupation  Average hourly wage  Industry average  Industry wage difference\n",
      "0       None               102.41             59.31                     43.10\n",
      "1       None                55.41             59.31                     -3.90\n",
      "2       None                  NaN             59.31                       NaN\n",
      "3       None                68.68             59.31                      9.37\n",
      "4       None                73.77             59.31                     14.46\n"
     ]
    }
   ],
   "source": [
    "\n",
    "# Calculate the difference between Average hourly wage and Industry average\n",
    "df_wages['Industry wage difference'] = df_wages['Average hourly wage'] - df_wages['Industry average']\n",
    "\n",
    "# Show output\n",
    "print(df_wages[['Occupation', 'Average hourly wage', 'Industry average', 'Industry wage difference']].head())"
   ]
  },
  {
   "cell_type": "markdown",
   "id": "01d38192-1875-46eb-9977-e579b5701e2d",
   "metadata": {},
   "source": [
    "### Task 10\n",
    "\n",
    "Divide `Industry wage difference` by `Industry average` to convert the difference to a percent change. (You might want to multiply by `100` at the end to display as a percentage).\n",
    "\n",
    "Assign the result to new column called `Industry wage pctchg`. "
   ]
  },
  {
   "cell_type": "code",
   "execution_count": 50,
   "id": "0d8f4aa0-df76-4bfd-a5ce-13e4c899eec3",
   "metadata": {},
   "outputs": [
    {
     "name": "stdout",
     "output_type": "stream",
     "text": [
      "                                            Industry Occupation Level  \\\n",
      "0  Management Occupations - Top Executives - Chie...       None  None   \n",
      "1  Management Occupations - Top Executives - Gene...       None  None   \n",
      "2  Management Occupations - Top Executives - Legi...       None  None   \n",
      "3  Management Occupations - Advertising, Marketin...       None  None   \n",
      "4  Management Occupations - Advertising, Marketin...       None  None   \n",
      "\n",
      "   Average hourly wage  Industry average  Industry wage pctchg  \n",
      "0               102.41             59.31             72.669027  \n",
      "1                55.41             59.31             -6.575620  \n",
      "2                  NaN             59.31                   NaN  \n",
      "3                68.68             59.31             15.798348  \n",
      "4                73.77             59.31             24.380374  \n"
     ]
    }
   ],
   "source": [
    "\n",
    "# Calculate the percentage change between the Average hourly wage and the Industry average\n",
    "df_wages['Industry wage pctchg'] = (df_wages['Industry wage difference'] / df_wages['Industry average']) * 100\n",
    "\n",
    "# Show output\n",
    "print(df_wages[['Industry', 'Occupation', 'Level', 'Average hourly wage', 'Industry average', 'Industry wage pctchg']].head())"
   ]
  },
  {
   "cell_type": "markdown",
   "id": "0a973d2a-2a57-440d-b4da-5ad3e303b277",
   "metadata": {},
   "source": [
    "### Task 11\n",
    "\n",
    "Sort `df_wages` by the `Industry wage pctchg` column from *highest* to *lowest*. Assign the result to the variable `highest_industry_pctchg`."
   ]
  },
  {
   "cell_type": "code",
   "execution_count": 51,
   "id": "bac8e251-425b-41e8-999a-7b6b9939c4b6",
   "metadata": {},
   "outputs": [
    {
     "name": "stdout",
     "output_type": "stream",
     "text": [
      "                                              Industry Occupation Level  \\\n",
      "329  Healthcare Practitioners and Technical Occupat...       None  None   \n",
      "460  Personal Care and Service Occupations - Person...       None  None   \n",
      "328  Healthcare Practitioners and Technical Occupat...       None  None   \n",
      "305  Healthcare Practitioners and Technical Occupat...       None  None   \n",
      "331  Healthcare Practitioners and Technical Occupat...       None  None   \n",
      "\n",
      "     Average hourly wage  Industry average  Industry wage pctchg  \n",
      "329               170.18             43.80            288.538813  \n",
      "460                59.80             16.17            269.820656  \n",
      "328               159.22             43.80            263.515982  \n",
      "305               149.74             43.80            241.872146  \n",
      "331               149.35             43.80            240.981735  \n"
     ]
    }
   ],
   "source": [
    "# Sort the DataFrame by the 'Industry wage pctchg' column from highest to lowest\n",
    "highest_industry_pctchg = df_wages.sort_values(by='Industry wage pctchg', ascending=False)\n",
    "\n",
    "# Show output\n",
    "print(highest_industry_pctchg[['Industry', 'Occupation', 'Level', 'Average hourly wage', 'Industry average', 'Industry wage pctchg']].head())"
   ]
  },
  {
   "cell_type": "markdown",
   "id": "1eea528e",
   "metadata": {},
   "source": [
    "## Task Group 4 - Computer Jobs"
   ]
  },
  {
   "cell_type": "markdown",
   "id": "196cb84e",
   "metadata": {},
   "source": [
    "### Task 12\n",
    "\n",
    "Use the separate `Industry` column you created in Task 5 to investigate occupations in the **'Computer and Mathematical Occupations'** industry. Filter `df_wages` for this specific industry and create a new DataFrame named `cs_math_occupations`."
   ]
  },
  {
   "cell_type": "code",
   "execution_count": 54,
   "id": "b8dde112",
   "metadata": {},
   "outputs": [
    {
     "data": {
      "text/html": [
       "<div>\n",
       "<style scoped>\n",
       "    .dataframe tbody tr th:only-of-type {\n",
       "        vertical-align: middle;\n",
       "    }\n",
       "\n",
       "    .dataframe tbody tr th {\n",
       "        vertical-align: top;\n",
       "    }\n",
       "\n",
       "    .dataframe thead th {\n",
       "        text-align: right;\n",
       "    }\n",
       "</style>\n",
       "<table border=\"1\" class=\"dataframe\">\n",
       "  <thead>\n",
       "    <tr style=\"text-align: right;\">\n",
       "      <th></th>\n",
       "      <th>Index</th>\n",
       "      <th>Occupation title</th>\n",
       "      <th>Year</th>\n",
       "      <th>Employment</th>\n",
       "      <th>Average hourly wage</th>\n",
       "      <th>Industry average</th>\n",
       "      <th>Similar occupation average</th>\n",
       "      <th>Industry</th>\n",
       "      <th>Level</th>\n",
       "      <th>Occupation</th>\n",
       "      <th>Industry wage difference</th>\n",
       "      <th>Industry wage pctchg</th>\n",
       "    </tr>\n",
       "  </thead>\n",
       "  <tbody>\n",
       "  </tbody>\n",
       "</table>\n",
       "</div>"
      ],
      "text/plain": [
       "Empty DataFrame\n",
       "Columns: [Index, Occupation title, Year, Employment, Average hourly wage, Industry average, Similar occupation average, Industry, Level, Occupation, Industry wage difference, Industry wage pctchg]\n",
       "Index: []"
      ]
     },
     "execution_count": 54,
     "metadata": {},
     "output_type": "execute_result"
    }
   ],
   "source": [
    "# Filter df_wages for the 'Computer and Mathematical Occupations' industry\n",
    "cs_math_occupations = df_wages[df_wages['Industry'] == 'Computer and Mathematical Occupations']\n",
    "\n",
    "# Show output\n",
    "cs_math_occupations.head()\n"
   ]
  },
  {
   "cell_type": "markdown",
   "id": "643af850",
   "metadata": {},
   "source": [
    "### Task 13\n",
    "\n",
    "Sort `cs_math_occupations` by `Average hourly wage` from highest to lowest, and display the results."
   ]
  },
  {
   "cell_type": "code",
   "execution_count": 55,
   "id": "7556b554",
   "metadata": {},
   "outputs": [
    {
     "name": "stdout",
     "output_type": "stream",
     "text": [
      "Empty DataFrame\n",
      "Columns: [Industry, Occupation, Level, Average hourly wage, Industry average, Industry wage pctchg]\n",
      "Index: []\n"
     ]
    }
   ],
   "source": [
    "# Sort by Average hourly wage from highest to lowest\n",
    "cs_math_occupations_sorted = cs_math_occupations.sort_values(by='Average hourly wage', ascending=False)\n",
    "\n",
    "# Display the sorted DataFrame\n",
    "print(cs_math_occupations_sorted[['Industry', 'Occupation', 'Level', 'Average hourly wage', 'Industry average', 'Industry wage pctchg']])"
   ]
  }
 ],
 "metadata": {
  "kernelspec": {
   "display_name": "Python 3 (ipykernel)",
   "language": "python",
   "name": "python3"
  },
  "language_info": {
   "codemirror_mode": {
    "name": "ipython",
    "version": 3
   },
   "file_extension": ".py",
   "mimetype": "text/x-python",
   "name": "python",
   "nbconvert_exporter": "python",
   "pygments_lexer": "ipython3",
   "version": "3.8.10"
  }
 },
 "nbformat": 4,
 "nbformat_minor": 5
}
